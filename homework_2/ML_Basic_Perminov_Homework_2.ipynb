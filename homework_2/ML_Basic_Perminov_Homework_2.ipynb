{
 "cells": [
  {
   "cell_type": "markdown",
   "id": "214fb841-b276-4787-9ff6-a229ef6e9642",
   "metadata": {},
   "source": [
    "# Задача 1\n",
    "Пользователь вводит целое число, программа складывает все цифры числа, с полученным числом — то же самое, и так до тех пор, пока не получится однозначное число.\n",
    "\n",
    "Пример:\n",
    "- 545 -> 5\n",
    "- 12345 -> 6"
   ]
  },
  {
   "cell_type": "code",
   "execution_count": null,
   "id": "364a9aae-963f-4fb3-a09c-6ff4ef9ac7af",
   "metadata": {},
   "outputs": [],
   "source": [
    "def get_digits(num: int) -> list[int]:\n",
    "    num = abs(num)\n",
    "    return [int(i) for i in list(str(num))]\n",
    "    \n",
    "def single_digits_summ(num: int) -> int:\n",
    "    digits = get_digits(num)\n",
    "    summ = 0\n",
    "    \n",
    "    while len(digits) > 1:\n",
    "        summ = sum(digits)\n",
    "        digits = get_digits(summ)\n",
    "    return digits[0] if summ == 0 else summ\n",
    "\n",
    "for case in [545, 12345, 0, -545, 12, 1, -5, 10]:\n",
    "    print(case, \"->\", single_digits_summ(case))\n",
    "\n",
    "num = int(input())\n",
    "print(\"single digits summ for\", num, \"->\", single_digits_summ(num))"
   ]
  },
  {
   "cell_type": "markdown",
   "id": "bb929627-33ff-4ae0-aa6c-5e0efe497d90",
   "metadata": {},
   "source": [
    "# Задача 2\n",
    "Кинотеатр. Дан список списков, каждый вложенный список состоит из 1 и 0, количество вложенных списков — количество рядов. Пользователь вводит, сколько билетов ему требуется. Программа должна найти ряд, где можно приобрести нужное количество билетов (места должны быть рядом). Если таких рядов несколько, то ближайший к экрану (ближайшим считается нулевой ряд). Если таких мест нет, то вывести False.\n",
    "\n",
    "Пример:\n",
    "- [[0,1,1,0], [1,0,0,0], [0,1,0,0]], 2 -> 1\n",
    "- [[0,1,1,0], [1,0,1,0], [1,1,0,1]], 2 -> False"
   ]
  },
  {
   "cell_type": "code",
   "execution_count": null,
   "id": "2b66e436-aef7-425e-90f6-552073d74184",
   "metadata": {},
   "outputs": [],
   "source": [
    "from typing import Optional\n",
    "\n",
    "def find_adjacent_seats(seats: list[list[int]], adjacent_seats_num: int = 1) -> int | None:\n",
    "    if adjacent_seats_num == 0 or adjacent_seats_num < 0:\n",
    "        raise \"Wrong input adjacent_seats_num\"\n",
    "\n",
    "    for row_id, row in enumerate(seats): \n",
    "        row = list(map(lambda value: not bool(value), row)) # список мест, где True = свободно\n",
    "        free_cnt = 0\n",
    "        for seat in row:\n",
    "            free_cnt = free_cnt + 1 if seat else 0\n",
    "            if free_cnt == adjacent_seats_num:\n",
    "                return row_id\n",
    "    return None\n",
    "\n",
    "def print_adjacent_seats(seats: list[list[int]], adjacent_seats_num: int):\n",
    "    print(seats, \",\", adjacent_seats_num, end=\" -> \")\n",
    "    result = find_adjacent_seats(seats, adjacent_seats_num)\n",
    "    if result == None:\n",
    "        print(\"False\")\n",
    "    else:\n",
    "        print(result)\n",
    "\n",
    "cases = [ \n",
    "          ([ [0,1,1,0], [1,0,0,0], [0,1,0,0] ], 2),\n",
    "          ([ [0,1,1,0], [1,0,1,0], [1,1,0,1] ], 2),\n",
    "          ([ [0,1,1,0], [1,0,1,0], [1,1,0,1] ], 1),\n",
    "          ([ [0,1,1,0,0,1], [0,0,1,1,1,1], [1,1,0,0,0,1] ], 3),\n",
    "        ]\n",
    "\n",
    "for seats, seats_req in cases:\n",
    "    print_adjacent_seats(seats, seats_req)"
   ]
  },
  {
   "cell_type": "markdown",
   "id": "57afe187-95f4-4111-b214-c70c91de5e25",
   "metadata": {},
   "source": [
    "# Задача 3\n",
    "Написать упрощенную версию алгоритма RLE. Алгоритм RLE объединяет подряд идущие символы в коэффициент и символ.\n",
    "\n",
    "Пример:\n",
    "- aabbbbccccc -> 2a4b5c\n",
    "- asssdddsssddd -> 1a3s3d3s3d\n",
    "- abcba -> 1a1b1c1b1a"
   ]
  },
  {
   "cell_type": "code",
   "execution_count": null,
   "id": "5d58393d-d329-4da0-8d85-b11ff58c2da3",
   "metadata": {},
   "outputs": [],
   "source": [
    "def rle_encode(data: str) -> str:\n",
    "    if len(data) == 0:\n",
    "        return \"\"\n",
    "\n",
    "    encoding = []\n",
    "    prev_char = data[0]\n",
    "    count = 1\n",
    "\n",
    "    for char in data[1:]:\n",
    "        if char == prev_char:\n",
    "            count += 1\n",
    "        else:\n",
    "            encoding.extend([str(count), prev_char])\n",
    "            count = 1\n",
    "            prev_char = char\n",
    "    encoding.extend([str(count), prev_char])\n",
    "    return \"\".join(encoding)\n",
    "\n",
    "cases = {\n",
    "          \"aabbbbccccc\": \"2a4b5c\",\n",
    "          \"asssdddsssddd\": \"1a3s3d3s3d\",\n",
    "          \"abcba\": \"1a1b1c1b1a\",\n",
    "          \"a\": \"1a\",\n",
    "          \"\": \"\",\n",
    "        }\n",
    "\n",
    "for case, expected_result in cases.items():\n",
    "    result = rle_encode(case)\n",
    "    if expected_result == result:\n",
    "        print(case, \"->\",result)\n",
    "    else:\n",
    "        print(f\"Wrong result {result} for {case}\") "
   ]
  },
  {
   "cell_type": "markdown",
   "id": "272e9ea8-3b35-4c4a-9267-a0e42f1578b3",
   "metadata": {},
   "source": [
    "# Задача 4\n",
    "Шифр Цезаря. Пользователь вводит строку и ключ шифра, программа должна вывести зашифрованную строку (со сдвигом по ключу). Сдвиг циклический. Используем только латинский алфавит, пробелы не шифруются.\n",
    "\n",
    "Пример:\n",
    "<font color=\"red\">Второй и третий пример в уловии вашего документа указаны не корректно (Используем только латинский алфавит, пробелы не шифруются.) И не указан ключ к примерам</font>\n",
    "- Dog, 2 -> Fqi\n",
    "- Zak zak -> Cdn cdn\n",
    "- Python is the BEST -> UdymtsnxymjGJXY\n",
    "  \n"
   ]
  },
  {
   "cell_type": "code",
   "execution_count": null,
   "id": "95d4a2c7-c9d7-41f3-b532-ebf2c845d8c7",
   "metadata": {},
   "outputs": [],
   "source": [
    "def cesar_cipher(text: str, key: int, alphabet: str = \"abcdefghijklmnopqrstuvwxyz\") -> str:\n",
    "    crypted_text = \"\"\n",
    "    for symbol in text:\n",
    "        upper_case = False\n",
    "        if symbol.isalpha() and symbol.isupper():\n",
    "                symbol = symbol.lower()\n",
    "                upper_case = True\n",
    "        index = alphabet.find(symbol)\n",
    "        if index >= 0:\n",
    "            crypted_index = (index + key) % len(alphabet)\n",
    "            crypted_text += alphabet[crypted_index].upper() if upper_case else alphabet[crypted_index]\n",
    "        else:\n",
    "            crypted_text += symbol\n",
    "    return crypted_text\n",
    "\n",
    "cases = [\n",
    "          (\"Dog\", 2, \"Fqi\"),\n",
    "          (\"Zak zak\", 3, \"Cdn cdn\"),\n",
    "          (\"Python is the BEST\", 5, \"Udymts nx ymj GJXY\"),\n",
    "          (\"\", 5, \"\"),\n",
    "          (\"Zero\", 0, \"Zero\"),\n",
    "          (\"Zero zero!\", -2, \"Xcpm xcpm!\"),\n",
    "          (\"Abc azx\", -1, \"Zab zyw\"),\n",
    "        ]\n",
    "for text, key, expected_result in cases:\n",
    "    result = cesar_cipher(text, key)\n",
    "    if expected_result == result:\n",
    "        print(text, \",\", key, \"->\",result)\n",
    "    else:\n",
    "        print(f\"Wrong result \\\"{result}\\\" for {text, key, expected_result}\") \n",
    "\n",
    "print(\"Input text:\")\n",
    "text = input()\n",
    "print(\"Input key:\")\n",
    "key = int(input())\n",
    "print(cesar_cipher(text,key))"
   ]
  },
  {
   "cell_type": "markdown",
   "id": "f3eaf5a4-99c1-4d3d-b40c-c0563a68ee9e",
   "metadata": {},
   "source": [
    "# Задача 5\n",
    "Табель успеваемости. Пользователь в бесконечном цикле (пока не будет введена пустая строка) вводит строки вида: 'название предмета' 'фамилия ученика' 'оценка'. После окончания ввода программа выводит в консоль название предмета, далее список учеников и все их оценки в виде таблицы.\n",
    "\n",
    "    Математика Иванов 5\n",
    "    Математика Иванов 4\n",
    "    Литература Иванов 3\n",
    "    Математика Петров 5\n",
    "    Литература Сидоров 3\n",
    "    Литература Петров 5\n",
    "    Литература Иванов 4\n",
    "    Математика Сидоров 3\n",
    "    Математика Петров 5\n",
    "\n",
    "- Математика\n",
    "    - Иванов 5 4\n",
    "    - Петров 5 5\n",
    "    - Сидоров 3\n",
    "\n",
    "- Литература\n",
    "    - Иванов 3 4\n",
    "    - Сидоров 3\n",
    "    - Петров 5"
   ]
  },
  {
   "cell_type": "code",
   "execution_count": 3,
   "id": "f147425e-4f8a-491b-9dff-2a5c8a2e3004",
   "metadata": {},
   "outputs": [
    {
     "name": "stdout",
     "output_type": "stream",
     "text": [
      "Математика\n",
      "\tИванов 5 4\n",
      "\tПетров 5 5\n",
      "\tСидоров 3\n",
      "Литература\n",
      "\tИванов 3 4\n",
      "\tСидоров 3\n",
      "\tПетров 5\n",
      "\n",
      "Введите запись в табель:\n"
     ]
    },
    {
     "name": "stdin",
     "output_type": "stream",
     "text": [
      " asd a 1\n"
     ]
    },
    {
     "name": "stdout",
     "output_type": "stream",
     "text": [
      "Введите запись в табель:\n"
     ]
    },
    {
     "name": "stdin",
     "output_type": "stream",
     "text": [
      " asad d 1\n"
     ]
    },
    {
     "name": "stdout",
     "output_type": "stream",
     "text": [
      "Введите запись в табель:\n"
     ]
    },
    {
     "name": "stdin",
     "output_type": "stream",
     "text": [
      " \n"
     ]
    },
    {
     "name": "stdout",
     "output_type": "stream",
     "text": [
      "asd\n",
      "\ta 1\n",
      "asad\n",
      "\td 1\n",
      "\n"
     ]
    }
   ],
   "source": [
    "class ReportCard:\n",
    "    def __init__(self):\n",
    "        self._data = dict()\n",
    "\n",
    "    def __str__(self):\n",
    "        string = \"\"\n",
    "        for discipline, students_scores in self._data.items():\n",
    "            string = string + discipline + \"\\n\"\n",
    "            for surname, scores in students_scores.items():\n",
    "                marks = list(map(lambda x: str(x), scores))\n",
    "                string = string + \"\\t\" + surname + \" \" + \" \".join(marks) + \"\\n\"\n",
    "        return string\n",
    "        \n",
    "    def parse_and_append(self, record: str):\n",
    "        discipline, surname, score = record.split(\" \")\n",
    "        score = int(score)\n",
    "        self.append(discipline, surname, score)\n",
    "    \n",
    "    def append(self, discipline: str, surname: str, score: int):\n",
    "        if discipline in self._data:\n",
    "            students_scores = self._data[discipline]\n",
    "            if surname in students_scores:\n",
    "                students_scores[surname].append(score)\n",
    "            else:\n",
    "                students_scores[surname] = [score]\n",
    "        else:\n",
    "            self._data[discipline] = {surname: [score]}\n",
    "\n",
    "    @classmethod\n",
    "    def read_input(cls):\n",
    "        report_card = cls()\n",
    "        while True:\n",
    "            print(\"Введите запись в табель:\")\n",
    "            record = input()\n",
    "            if not record:\n",
    "                break\n",
    "            report_card.parse_and_append(record)\n",
    "        return report_card\n",
    "\n",
    "def default_example():\n",
    "    data = [\"Математика Иванов 5\",\n",
    "            \"Математика Иванов 4\",\n",
    "            \"Литература Иванов 3\",\n",
    "            \"Математика Петров 5\",\n",
    "            \"Литература Сидоров 3\",\n",
    "            \"Литература Петров 5\",\n",
    "            \"Литература Иванов 4\",\n",
    "            \"Математика Сидоров 3\",\n",
    "            \"Математика Петров 5\",\n",
    "           ]\n",
    "    report_card = ReportCard()\n",
    "    for record in data:\n",
    "        report_card.parse_and_append(record)\n",
    "    print(report_card)\n",
    "\n",
    "default_example()\n",
    "\n",
    "report_card = ReportCard().read_input()\n",
    "print(report_card)"
   ]
  },
  {
   "cell_type": "code",
   "execution_count": null,
   "id": "279e89d1-e040-494a-a936-9d7f837674a3",
   "metadata": {},
   "outputs": [],
   "source": []
  }
 ],
 "metadata": {
  "kernelspec": {
   "display_name": "Python [conda env:base] *",
   "language": "python",
   "name": "conda-base-py"
  },
  "language_info": {
   "codemirror_mode": {
    "name": "ipython",
    "version": 3
   },
   "file_extension": ".py",
   "mimetype": "text/x-python",
   "name": "python",
   "nbconvert_exporter": "python",
   "pygments_lexer": "ipython3",
   "version": "3.12.7"
  }
 },
 "nbformat": 4,
 "nbformat_minor": 5
}
