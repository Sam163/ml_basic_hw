{
 "cells": [
  {
   "cell_type": "markdown",
   "id": "b8dc2c0d-4a9d-477e-8db8-5eef244dc607",
   "metadata": {},
   "source": [
    "# Задача 1\n",
    "Описание/Пошаговая инструкция выполнения домашнего задания:\n",
    "Пользователь вводит пятизначное число. Программа должна зеркально отразить центральные три цифры. Первая и последняя остаются на местах.\n",
    "\n",
    "Пример:\n",
    "- 23456 -> 25436\n",
    "- 30789 -> 38709"
   ]
  },
  {
   "cell_type": "code",
   "execution_count": null,
   "id": "8e6ec31e-d5c8-43e0-9656-7f57772d8bfa",
   "metadata": {},
   "outputs": [],
   "source": [
    "def get_mirrored_num(num: str) -> int:\n",
    "    return num[:1] + num[3:4] + num[2:3] + num[1:2] + num[4:]\n",
    "\n",
    "def check_input(num: str):\n",
    "    int(num)\n",
    "    if len(num) != 5:\n",
    "        raise\n",
    "\n",
    "for num in [\"23456\", \"30789\"]:\n",
    "    print(num, \"->\", get_mirrored_num(num));\n",
    "\n",
    "num = input()\n",
    "check_input(num)\n",
    "print(num, \"->\", get_mirrored_num(num))"
   ]
  },
  {
   "cell_type": "markdown",
   "id": "832e04ee-7b83-451e-8339-0b37d8e71537",
   "metadata": {},
   "source": [
    "# Задача 2\n",
    "Отпуск. Пользователь вводит сколько дней осталось до ближайшего отпуска. Программа должна вывести количество выходных дней до отпуска, если учесть? что выходные это суббота и воскресенье, сегодня понедельник и праздники мы не учитываем.\n",
    "\n",
    "Пример:\n",
    "- 4 -> 0\n",
    "- 6 -> 1\n",
    "- 14 -> 4"
   ]
  },
  {
   "cell_type": "code",
   "execution_count": null,
   "id": "fa60d6e2-0b2f-4c37-a1c0-088d350fa8c4",
   "metadata": {},
   "outputs": [],
   "source": [
    "def count_weekend_days(days_left: int) -> int:\n",
    "    first_weekend_day = 5             # Первый выходной будет через 5 дней. Пн входит в учет.\n",
    "    full_weeks = days_left // 7       # Количество полных недель до отпуска\n",
    "    remaining_days = days_left % 7    # Оставшиеся дни после вычитания полных недель\n",
    "\n",
    "    weekend_days = full_weeks * 2\n",
    "    diff = remaining_days - first_weekend_day\n",
    "    if diff > 0:\n",
    "        weekend_days = weekend_days + diff\n",
    "    return weekend_days\n",
    "\n",
    "for case in [4, 6, 14]:\n",
    "    print(case, \"->\", count_weekend_days(case))\n",
    "\n",
    "days=int(input())\n",
    "if days < 0:\n",
    "    raise\n",
    "print(count_weekend_days(days))"
   ]
  },
  {
   "cell_type": "markdown",
   "id": "afed054e-2511-472b-9a37-7b069297f735",
   "metadata": {},
   "source": [
    "# Задача 3\n",
    "Пользователь вводит длину и ширину плитки шоколада, а также размер куска, который хочет отломить, программа должна вычислить - можно ли совершить подобный разлом или нет, если учесть, что ломать можно только по прямой\n",
    "\n",
    "Пример:\n",
    "- 3, 4, 6 -> True\n",
    "- 5, 7, 8 -> False\n",
    "- 4, 5, 12 -> True"
   ]
  },
  {
   "cell_type": "code",
   "execution_count": null,
   "id": "ac9e0d12-43b6-4cf6-9d6c-137678c0eb26",
   "metadata": {},
   "outputs": [],
   "source": [
    "import math\n",
    "\n",
    "def can_break_chocolate(a: int, b: int, k: int) -> bool:\n",
    "    return (a*b > k) and ( (k%a == 0) or (k%b == 0) )\n",
    "\n",
    "print(\"3, 4, 6 ->\", can_break_chocolate(3, 4, 6))\n",
    "print(\"5, 7, 8 ->\", can_break_chocolate(5, 7, 8))\n",
    "print(\"4, 5, 12 ->\", can_break_chocolate(4, 5, 12))\n",
    "\n",
    "print(\"side a:\")\n",
    "a=int(input())\n",
    "print(\"side b:\")\n",
    "b=int(input())\n",
    "print(\"parts len:\")\n",
    "k=int(input())\n",
    "print(can_break_chocolate(a, b, k))"
   ]
  },
  {
   "cell_type": "markdown",
   "id": "24e8e819-de9a-4ce5-8ce1-15245d99380a",
   "metadata": {},
   "source": [
    "# Задача 4\n",
    "Пользователь вводит целое положительное число, программа должна вернуть строку в виде римского числа\n",
    "\n",
    "Пример:\n",
    "- 3 -> III\n",
    "- 15 -> XV\n",
    "- 234 -> CCXXXIV"
   ]
  },
  {
   "cell_type": "code",
   "execution_count": null,
   "id": "586bef62-ad5f-47b7-a66f-905823d24ff6",
   "metadata": {},
   "outputs": [],
   "source": [
    "def int_to_roman(num: int) -> str:\n",
    "    I = [\"\", \"I\", \"II\", \"III\", \"IV\", \"V\", \"VI\", \"VII\", \"VIII\", \"IX\"]\n",
    "    X = [\"\", \"X\", \"XX\", \"XXX\", \"XL\", \"L\", \"LX\", \"LXX\", \"LXXX\", \"XC\"]\n",
    "    C = [\"\", \"C\", \"CC\", \"CCC\", \"CD\", \"D\", \"DC\", \"DCC\", \"DCCC\", \"CM\"]\n",
    "    M = [\"\", \"M\", \"MM\", \"MMM\"]\n",
    "\n",
    "    thousands = M[num // 1000]\n",
    "    hundreds = C[(num % 1000) // 100]\n",
    "    tens = X[(num % 100) // 10]\n",
    "    ones = I[num % 10]\n",
    " \n",
    "    return thousands + hundreds + tens + ones\n",
    "\n",
    "def check_input(num: int):\n",
    "    if num < 0 or num > 3999:\n",
    "        raise\n",
    "\n",
    "for case in [3, 15, 234]:\n",
    "    print(case, \"->\", int_to_roman(case))\n",
    "\n",
    "num = int(input())\n",
    "check_input(num)\n",
    "print(int_to_roman(num))"
   ]
  },
  {
   "cell_type": "markdown",
   "id": "ca595ef7-923b-4cb7-bab0-7759ae8a72f2",
   "metadata": {},
   "source": [
    "# Задача 5\n",
    "Пользователь вводит данные, проверить - являются ли они положительным вещественным числом. Не использовать встроенные функции для проверки, только методы данных и конструкцию IF. (Дополнительное задание, по желанию - проверка на отрицательные вещественные числа)\n",
    "\n",
    "Пример:\n",
    "- 5.6 -> True\n",
    "- .78 -> True\n",
    "- .67. -> False\n",
    "- 5 -> True"
   ]
  },
  {
   "cell_type": "code",
   "execution_count": null,
   "id": "6eeb5053-0098-46d1-a644-c03242fd8e67",
   "metadata": {},
   "outputs": [],
   "source": [
    "def is_float_easy_peasy(num: str) -> bool:\n",
    "    '''\n",
    "    Функция самопроверки\n",
    "    '''\n",
    "    try:\n",
    "        float(num)\n",
    "        return True\n",
    "    except:\n",
    "        return False\n",
    "        \n",
    "def is_float_hard_way(num: str) -> bool:\n",
    "    '''\n",
    "    Функция - решение здачи\n",
    "    '''\n",
    "    digits = [\"0\", \"1\", \"2\", \"3\", \"4\", \"5\", \"6\", \"7\", \"8\", \"9\"]\n",
    "    symbols = list(num)\n",
    "    \n",
    "    if symbols[0] == \"-\": \n",
    "        symbols = symbols[1:]\n",
    "    if len(symbols) == 0:\n",
    "        return False\n",
    "\n",
    "    dot_finded = False\n",
    "    digits_finded = False\n",
    "    for symbol in symbols:\n",
    "        if symbol == \".\":\n",
    "            if dot_finded:\n",
    "                return False\n",
    "            else:\n",
    "                dot_finded = True\n",
    "                continue\n",
    "        \n",
    "        if symbol not in digits:\n",
    "            return False\n",
    "        else:\n",
    "            digits_finded = True\n",
    "\n",
    "    return digits_finded\n",
    "\n",
    "for case in [\"5.6\", \".78\", \".67.\", \"5\", \"-5.6\", \"-.78\", \"-.67.\", \"-5\", \"-\", \"5-\", \"-.\", \".\", \"0\", \"0.\", \".0\", \"000\", \"-.0\"]:\n",
    "    expected = is_float_easy_peasy(case)\n",
    "    result = is_float_hard_way(case)\n",
    "    if expected == result:\n",
    "        print(case, \"\\texpected ->\", expected, \"\\tresult:\", result)\n",
    "    else:\n",
    "        print(\"error: \", case, \"\\texpected ->\", expected, \"\\tresult:\", result)\n",
    "        break\n",
    "\n",
    "num = input()\n",
    "print(is_float_hard_way(num))"
   ]
  },
  {
   "cell_type": "code",
   "execution_count": null,
   "id": "0af9dd9a-2e41-4d72-822c-45f15f9deb57",
   "metadata": {},
   "outputs": [],
   "source": []
  }
 ],
 "metadata": {
  "kernelspec": {
   "display_name": "Python [conda env:base] *",
   "language": "python",
   "name": "conda-base-py"
  },
  "language_info": {
   "codemirror_mode": {
    "name": "ipython",
    "version": 3
   },
   "file_extension": ".py",
   "mimetype": "text/x-python",
   "name": "python",
   "nbconvert_exporter": "python",
   "pygments_lexer": "ipython3",
   "version": "3.12.7"
  }
 },
 "nbformat": 4,
 "nbformat_minor": 5
}
