{
 "cells": [
  {
   "cell_type": "markdown",
   "id": "dd2abe0e-ca07-4297-b506-5e4b06ad58a9",
   "metadata": {},
   "source": [
    "# Теоретический минимум для ML"
   ]
  },
  {
   "cell_type": "markdown",
   "id": "cd0dd938-65d4-4de6-b8d6-2a933cd24a41",
   "metadata": {},
   "source": [
    "## 1 Линейная алгебра"
   ]
  },
  {
   "cell_type": "markdown",
   "id": "3e1f4ba6-7dd6-48d9-b752-ac4ef833d5ea",
   "metadata": {},
   "source": [
    "### 1. Даны матрицы:\n",
    "   \n",
    "$\n",
    "A = \\begin{bmatrix}\n",
    "    2 & -4 \\\\\n",
    "    3 & 5 \\\\\n",
    "    -1 & 0\n",
    "    \\end{bmatrix}, \\quad\n",
    "B = \\begin{bmatrix}\n",
    "    1 & 2 & 7 \\\\\n",
    "    -3 & -4 & 0 \\\\\n",
    "    5 & 2 & 1\n",
    "    \\end{bmatrix}, \\quad\n",
    "C = \\begin{bmatrix}\n",
    "    6 & -3 & 9 \\\\\n",
    "    4 & -5 & 2 \\\\\n",
    "    8 & 1 & 5\n",
    "    \\end{bmatrix}\n",
    "$\n",
    "\n",
    "Посчитайте матрицу $ D = A^\\top C - 2 A^\\top B^\\top $. Приведите полную последовательность вычислений."
   ]
  },
  {
   "cell_type": "markdown",
   "id": "be99b70d-8ffc-41b8-856e-91982d26d6c9",
   "metadata": {},
   "source": [
    "#### Решение\n",
    "$$\n",
    "A = \\begin{bmatrix}\n",
    "    2 & -4 \\\\\n",
    "    3 & 5 \\\\\n",
    "    -1 & 0\n",
    "    \\end{bmatrix}\n",
    "\\implies\n",
    "A^\\top = \\begin{bmatrix}\n",
    "        2 & 3 & -1 \\\\\n",
    "        -4 & 5 & 0\n",
    "        \\end{bmatrix}\n",
    "$$\n",
    "$$\n",
    "B = \\begin{bmatrix}\n",
    "    1 & 2 & 7 \\\\\n",
    "    -3 & -4 & 0 \\\\\n",
    "    5 & 2 & 1\n",
    "    \\end{bmatrix}\n",
    "\\implies\n",
    "B^\\top = \\begin{bmatrix}\n",
    "        1 & -3 & 5 \\\\\n",
    "        2 & -4 & 2 \\\\\n",
    "        7 & 0 & 1\n",
    "        \\end{bmatrix}\n",
    "$$"
   ]
  },
  {
   "cell_type": "markdown",
   "id": "7e5087b7-a8b6-41fa-b4e2-c6494347392a",
   "metadata": {},
   "source": [
    "$$\n",
    "\\begin{align}\n",
    "    D &=\\begin{bmatrix}\n",
    "        2 & 3 & -1 \\\\\n",
    "        -4 & 5 & 0\n",
    "        \\end{bmatrix}\n",
    "        \\begin{bmatrix}\n",
    "        6 & -3 & 9 \\\\\n",
    "        4 & -5 & 2 \\\\\n",
    "        8 & 1 & 5\n",
    "        \\end{bmatrix}\n",
    "        - 2  \\cdot\n",
    "        \\begin{bmatrix}\n",
    "        2 & 3 & -1 \\\\\n",
    "        -4 & 5 & 0\n",
    "        \\end{bmatrix}\n",
    "        \\begin{bmatrix}\n",
    "        1 & -3 & 5 \\\\\n",
    "        2 & -4 & 2 \\\\\n",
    "        7 & 0 & 1\n",
    "        \\end{bmatrix}\n",
    "\\end{align}\n",
    "$$"
   ]
  },
  {
   "cell_type": "markdown",
   "id": "046dcc02-16ec-466e-9cad-590ec5cfe8fc",
   "metadata": {},
   "source": [
    "$$\n",
    "\\begin{align}\n",
    "    \\begin{bmatrix}\n",
    "    2 & 3 & -1 \\\\\n",
    "    -4 & 5 & 0\n",
    "    \\end{bmatrix}\n",
    "    \\begin{bmatrix}\n",
    "    6 & -3 & 9 \\\\\n",
    "    4 & -5 & 2 \\\\\n",
    "    8 & 1 & 5\n",
    "    \\end{bmatrix}\n",
    "    &= \\begin{bmatrix}\n",
    "    ( 2 \\cdot 6 + 3 \\cdot 4 + (-1) \\cdot 8 ) &\n",
    "    ( 2 \\cdot (-3) + 3 \\cdot (-5) + (-1) \\cdot 1) &\n",
    "    ( 2 \\cdot 9 + 3 \\cdot 2 + (-1) \\cdot 5 = 18 + 6 - 5) \\\\\n",
    "    (-4 \\cdot 6 + 5 \\cdot 4 + 0 \\cdot 8) &\n",
    "    (-4 \\cdot (-3) + 5 \\cdot (-5) + 0 \\cdot 1) &\n",
    "    (-4 \\cdot 9 + 5 \\cdot 2 + 0 \\cdot 5)\n",
    "    \\end{bmatrix}\n",
    "    &= \\begin{bmatrix}\n",
    "    16 & -22 & 19 \\\\\n",
    "    -4 & -13 & -26\n",
    "    \\end{bmatrix}\n",
    "\\end{align}\n",
    "$$"
   ]
  },
  {
   "cell_type": "markdown",
   "id": "c699411f-2596-4343-80ad-cfb0eceb2659",
   "metadata": {},
   "source": [
    "$$\n",
    "\\begin{align}\n",
    "    \\begin{bmatrix}\n",
    "    2 & 3 & -1 \\\\\n",
    "    -4 & 5 & 0\n",
    "    \\end{bmatrix}\n",
    "    \\begin{bmatrix}\n",
    "    1 & -3 & 5 \\\\\n",
    "    2 & -4 & 2 \\\\\n",
    "    7 & 0 & 1\n",
    "    \\end{bmatrix}\n",
    "    &= \\begin{bmatrix}\n",
    "    ( 2 \\cdot 1 + 3 \\cdot 2 + (-1) \\cdot 7 ) & ( 2 \\cdot (-3) + 3 \\cdot (-4) + (-1) \\cdot 0 ) & ( 2 \\cdot 5 + 3 \\cdot 2 + (-1) \\cdot 1 ) \\\\\n",
    "    ( -4 \\cdot 1 + 5 \\cdot 2 + 0 \\cdot 7 ) & ( -4 \\cdot (-3) + 5 \\cdot (-4) + 0 \\cdot 0 ) & ( -4 \\cdot 5 + 5 \\cdot 2 + 0 \\cdot 1 )\n",
    "    \\end{bmatrix}\n",
    "    &=\\begin{bmatrix}\n",
    "    1 & -18 & 15 \\\\\n",
    "    6 & -8 & -10\n",
    "    \\end{bmatrix}\n",
    "\\end{align}\n",
    "$$"
   ]
  },
  {
   "cell_type": "markdown",
   "id": "dbd1d20f-45d1-4988-9652-823444ee0a92",
   "metadata": {},
   "source": [
    "$$\n",
    "\\begin{align}\n",
    "    D &= \\begin{bmatrix}\n",
    "    16 & -22 & 19 \\\\\n",
    "    -4 & -13 & -26\n",
    "    \\end{bmatrix} - 2  \\cdot\n",
    "    \\begin{bmatrix}\n",
    "    1 & -18 & 15 \\\\\n",
    "    6 & -8 & -10\n",
    "    \\end{bmatrix} \\\\\n",
    "    &= \\begin{bmatrix}\n",
    "    16 & -22 & 19 \\\\\n",
    "    -4 & -13 & -26\n",
    "    \\end{bmatrix} -\n",
    "    \\begin{bmatrix}\n",
    "    2 & -36 & 30 \\\\\n",
    "    12 & -16 & -20\n",
    "    \\end{bmatrix} \\\\\n",
    "    &= \\begin{bmatrix}\n",
    "    (16 - 2)  & ( -22 + 36 ) & ( 19 - 30 ) \\\\\n",
    "    ( -4 - 12 ) & ( -13 + 16 ) & ( -26 + 20 )\n",
    "    \\end{bmatrix}\n",
    "    &= \\begin{bmatrix}\n",
    "    14 & 14 & -11 \\\\\n",
    "    -16 & 3 & -6\n",
    "    \\end{bmatrix}\n",
    "\\end{align}\n",
    "$$"
   ]
  },
  {
   "cell_type": "code",
   "execution_count": 9,
   "id": "cc2b3040-6d47-4b7d-bb44-83fc9127d2b7",
   "metadata": {},
   "outputs": [
    {
     "name": "stdout",
     "output_type": "stream",
     "text": [
      "D =\n",
      " [[ 14  14 -11]\n",
      " [-16   3  -6]]\n"
     ]
    }
   ],
   "source": [
    "import numpy as np\n",
    "\n",
    "a = np.array([[2, -4],\n",
    "              [3, 5],\n",
    "              [-1, 0]])\n",
    "b = np.array([[1,   2,  7],\n",
    "              [-3, -4,  0],\n",
    "              [5,   2,  1]])\n",
    "c = np.array([[6, -3,  9],\n",
    "              [4, -5,  2],\n",
    "              [8,  1,  5]])\n",
    "\n",
    "d = np.dot(a.T , c) - 2 * np.dot(a.T, b.T)\n",
    "print(\"D =\\n\", d)"
   ]
  },
  {
   "cell_type": "markdown",
   "id": "1cc46d3a-9b1f-4a9e-9d3a-589f6c1d1d62",
   "metadata": {},
   "source": [
    "### 2. Дано выражение:\n",
    "\n",
    "$$\n",
    "3 \\cdot \\begin{bmatrix}\n",
    "x & 2 & 3 \\\\\n",
    "-1 & y & 4\n",
    "\\end{bmatrix}\n",
    "+ 2 \\cdot \\begin{bmatrix}\n",
    "1 & 2 & -5 \\\\\n",
    "2 & -6 & z\n",
    "\\end{bmatrix}\n",
    "= \\begin{bmatrix}\n",
    "8 & v & -1 \\\\\n",
    "1 & 6 & 4\n",
    "\\end{bmatrix}\n",
    "$$\n",
    "\n",
    "Найдите значения $x, y, z \\ и\\ v$, при которых выражение верно."
   ]
  },
  {
   "cell_type": "markdown",
   "id": "9071bca7-f60f-4dd0-9d09-44b3a0e7a6b6",
   "metadata": {},
   "source": [
    "**Решение**\n",
    "\n",
    "$\n",
    "\\begin{align*}\n",
    "    \\begin{bmatrix}\n",
    "    3x & 6 & 9 \\\\\n",
    "    -3 & 3y & 12\n",
    "    \\end{bmatrix}\n",
    "    +\n",
    "    \\begin{bmatrix}\n",
    "    2 & 4 & -10 \\\\\n",
    "    4 & -12 & 2z\n",
    "    \\end{bmatrix}\n",
    "    = \n",
    "    \\begin{bmatrix}\n",
    "    8 & v & -1 \\\\\n",
    "    1 & 6 & 4\n",
    "    \\end{bmatrix}\n",
    "\\end{align*}\n",
    "$"
   ]
  },
  {
   "cell_type": "markdown",
   "id": "ff86d4bc-0b2c-4794-822a-b94ebeb6aba1",
   "metadata": {},
   "source": [
    "$\n",
    "\\begin{aligned}\n",
    "\\begin{bmatrix}\n",
    "3x + 2 & 10 & -1 \\\\\n",
    "1 & 3y - 12 & 12 + 2z\n",
    "\\end{bmatrix}\n",
    "= \\begin{bmatrix}\n",
    "8 & v & -1 \\\\\n",
    "1 & 6 & 4\n",
    "\\end{bmatrix}\n",
    "\\end{aligned}\n",
    "$"
   ]
  },
  {
   "cell_type": "markdown",
   "id": "7c9b5847-4e78-406d-89cf-1867aefc1997",
   "metadata": {},
   "source": [
    "$\n",
    "\\begin{align*}\n",
    "\\begin{bmatrix}\n",
    "3x + 2 = 8 & 10 = v & -1 = -1 \\\\\n",
    "1 = 1  & 3y - 12 = 6 & 12 + 2z = 4\n",
    "\\end{bmatrix}\n",
    "\\implies  \n",
    "\\begin{bmatrix}\n",
    "x = 2 & 10 = v & -1 \\\\\n",
    "1  & y = 6 & z = -4\n",
    "\\end{bmatrix}\n",
    "\\end{align*}\n",
    "$"
   ]
  },
  {
   "cell_type": "code",
   "execution_count": 14,
   "id": "6ddc1147-d3df-4cb9-91c0-486ddd31f9d0",
   "metadata": {},
   "outputs": [
    {
     "name": "stdout",
     "output_type": "stream",
     "text": [
      "{v: 10, x: 2, y: 6, z: -4}\n"
     ]
    }
   ],
   "source": [
    "import numpy as np\n",
    "import sympy as sp\n",
    "\n",
    "x, y, z, v = sp.symbols('x y z v')\n",
    "\n",
    "A = sp.Matrix([[x, 2, 3], [-1, y, 4]])\n",
    "B = sp.Matrix([[1, 2, -5], [2, -6, z]])\n",
    "C = sp.Matrix([[8, v, -1], [1, 6, 4]])\n",
    "\n",
    "equation = sp.Eq(3 * A + 2 * B, C)\n",
    "solution = sp.solve(equation, (x, y, z, v))\n",
    "print (solution)"
   ]
  },
  {
   "cell_type": "markdown",
   "id": "1faaaed7-7e86-4980-8d72-8b58eb20cb47",
   "metadata": {},
   "source": [
    "### Задача 3\n",
    "\n",
    "Относительно канонического (стандартного) базиса в $\\mathbb{R}^2$ даны три вектора: \n",
    "$$\n",
    "a_{1} = (2,-5)^T, \\\\\n",
    "a_{2} = (-1,3)^T, \\\\\n",
    "x = (1,-4)^T\n",
    "$$ \n",
    "\n",
    "Примите векторы $a_{1}, a_{2}$ за новый базис $B$, предварительно проверив, что они линейно независимы.\n",
    "\n",
    "а)  Найдите координаты $\\left[ x \\right]_{B}$ вектора $x$ в новом базисе.\n",
    "\n",
    "b)  Предположим, что координаты вектора $y$ в базисе $B$ заданы $\\left[ y \\right]_{B} = (1,1)^T$. Найдите координаты вектора $y$ в стандартном базисе."
   ]
  },
  {
   "cell_type": "markdown",
   "id": "dfe404a6-ef0a-4fef-9170-9996347d4b2a",
   "metadata": {},
   "source": [
    "**Решение**\n",
    "$$\n",
    "A = \\begin{bmatrix} 2 & -1 \\\\\n",
    "-5 & 3 \\end{bmatrix}\n",
    "\\implies\n",
    "2 \\cdot 3 - (-1)\\cdot(-5) = 1\n",
    "$$\n",
    "Детерминант не равен нулю, следовательно векторы $\\mathbf{a_1} \\ и \\ \\mathbf{a_2}$ линейно независимы"
   ]
  },
  {
   "cell_type": "markdown",
   "id": "1e7447fd-9d38-4137-96a3-a4b98e5ed8b8",
   "metadata": {},
   "source": [
    "Вектор $\\mathbf{x} = (c_1, c_2)$ в новом базисе $B$.\n",
    "$$\n",
    "    \\begin{bmatrix}\n",
    "    1 \\\\ -4\n",
    "    \\end{bmatrix}\n",
    "    = c_1\n",
    "    \\begin{bmatrix}\n",
    "    2 \\\\ -5\n",
    "    \\end{bmatrix}\n",
    "    + c_2\n",
    "    \\begin{bmatrix}\n",
    "    -1 \\\\ 3\n",
    "    \\end{bmatrix}\n",
    "$$\n",
    "Что эквивалентно записи:\n",
    "$$\n",
    "    \\begin{bmatrix}\n",
    "    1 \\\\ -4\n",
    "    \\end{bmatrix}\n",
    "    = \n",
    "    \\begin{bmatrix}\n",
    "    2 & -1 \\\\\n",
    "    -5 & 3\n",
    "    \\end{bmatrix}\n",
    "    \\begin{bmatrix}\n",
    "    с_1 \\\\ с_2\n",
    "    \\end{bmatrix}\n",
    "$$\n",
    "$$ x = A \\cdot [\\mathbf{x}]_B$$\n",
    "$$ A^{-1} x = [\\mathbf{x}]_B$$\n",
    "$$\n",
    "[\\mathbf{x}]_B = \n",
    "    \\begin{bmatrix}\n",
    "    3 & 1 \\\\\n",
    "    5 & 2\n",
    "    \\end{bmatrix}\n",
    "    \\begin{bmatrix}\n",
    "    1 \\\\ -4\n",
    "    \\end{bmatrix}\n",
    "$$\n",
    "$$[\\mathbf{x}]_B = \\begin{bmatrix} -1 \\\\ -3 \\end{bmatrix}$$"
   ]
  },
  {
   "cell_type": "markdown",
   "id": "be163032-3f57-43ad-b5b0-1f79102ffcb2",
   "metadata": {},
   "source": [
    "$$\n",
    "\\mathbf{y} = \n",
    "A \\cdot [\\mathbf{y}]_B = \n",
    "\\begin{bmatrix}\n",
    "    2 & -1 \\\\\n",
    "    -5 & 3 \n",
    "\\end{bmatrix}\n",
    "\\begin{bmatrix} 1 \\\\ 1 \\end{bmatrix} =\n",
    "\\begin{bmatrix} 1 \\\\ -2 \\end{bmatrix}\n",
    "$$"
   ]
  },
  {
   "cell_type": "code",
   "execution_count": 19,
   "id": "b23313dd-cd42-4787-a1e6-7a74b48c7f9d",
   "metadata": {},
   "outputs": [
    {
     "name": "stdout",
     "output_type": "stream",
     "text": [
      "A =\n",
      " [[ 2 -1]\n",
      " [-5  3]]\n",
      "det(A) =  1.0000000000000002\n",
      "a1 и a2 линейно независимы\n",
      "Матрица перехода из B в станартную систему:\n",
      " [[ 2 -1]\n",
      " [-5  3]]\n",
      "Матрица перехода из стандартной в B систему:\n",
      " [[3. 1.]\n",
      " [5. 2.]]\n",
      "Ответ пункт(а)\n",
      "x(B) =  [-1. -3.]\n",
      "Ответ пункт(b)\n",
      "x =  [ 1 -2]\n"
     ]
    }
   ],
   "source": [
    "import numpy as np\n",
    "import sympy as sp\n",
    "\n",
    "a1 = np.array([[2], [-5]])\n",
    "a2 = np.array([[-1], [3]])\n",
    "x = np.array([[1], [-4]])\n",
    "\n",
    "A = np.hstack((a1, a2))\n",
    "print(\"A =\\n\", A)\n",
    "det_A = np.linalg.det(A)\n",
    "print(\"det(A) = \", det_A)\n",
    "\n",
    "if det_A == 0:\n",
    "    raise NameError(\"a1 и a2 линейно зависимы\")\n",
    "else:\n",
    "    print(\"a1 и a2 линейно независимы\")\n",
    "\n",
    "B_to_standart = A\n",
    "standart_to_B = np.linalg.inv(A)\n",
    "print(\"Матрица перехода из B в станартную систему:\\n\", B_to_standart)\n",
    "print(\"Матрица перехода из стандартной в B систему:\\n\", standart_to_B)\n",
    "\n",
    "x_B = standart_to_B.dot(x)\n",
    "print(\"Ответ пункт(а)\\nx(B) = \", x_B.T[0])\n",
    "\n",
    "y_B = np.array([[1], [1]])\n",
    "y = B_to_standart.dot(y_B)\n",
    "print(\"Ответ пункт(b)\\nx = \", y.T[0])"
   ]
  },
  {
   "cell_type": "markdown",
   "id": "b9dca456-fe39-4581-ac85-0b3b30d1d055",
   "metadata": {},
   "source": [
    "### Задача 4\n",
    "Исследовательское задание: малоранговая аппроксимация матрицы. Сгенерируйте случайную квадратную матрицу $A \\in \\mathbb{R}^{n\\times n}, n\\ge 100$. Выполните сингулярное разложение этой матрицы, и получите три матрицы: $U,S,V^T$. Выполняйте аппроксимацию матрицы A с рангом $r$ меняя его значение, например,от 2 до $n$:\n",
    "$$\\widetilde{A} = U[:, : r]S[:r,:r]V^T[:r,:],$$\n",
    "и каждый раз считайте ошибку апроксимации (как восстановленная матрица отличается от исходной):\n",
    "$$E(r)=\\left\\| A-\\widetilde{A} \\right\\|_{F}=\\sqrt{\\sum_{i = 1}^{n}\\sum_{j = 1}^{n}(a_{ij}-\\widetilde{a}_{ij})^2}.$$\n",
    "Используя библиотеку $matplotlib$, постройте график зависимости ошибки аппроксимации матрицы от ранга $r$."
   ]
  },
  {
   "cell_type": "code",
   "execution_count": 21,
   "id": "98a08ada-1e8d-4761-9f31-6f1bb54668bd",
   "metadata": {},
   "outputs": [
    {
     "data": {
      "image/png": "[encoded data removed]",
      "text/plain": [
       "<Figure size 640x480 with 1 Axes>"
      ]
     },
     "metadata": {},
     "output_type": "display_data"
    }
   ],
   "source": [
    "import numpy as np\n",
    "import matplotlib.pyplot as plt\n",
    "\n",
    "n = 100\n",
    "A = np.random.rand(n, n)\n",
    "\n",
    "U, S, VT = np.linalg.svd(A) # Сингулярное разложение матрицы A\n",
    "\n",
    "errors = []\n",
    "#  Аппроксимация матрицы A с разным рангом r и вычисление ошибки\n",
    "for r in range(2, n + 1):\n",
    "    S_r = np.diag(S[:r]) # Создание диагональной матрицы S_r размером r x r\n",
    "\n",
    "    A_r = U[:, :r] @ S_r[:r, :r] @ VT[:r, :] # Аппроксимация матрицы A с рангом r\n",
    "\n",
    "    error = np.linalg.norm(A - A_r, 'fro') # Вычисление ошибки аппроксимации E(r) как нормы Фробениуса разности A и A_r\n",
    "    errors.append(error)\n",
    "\n",
    "plt.plot(range(2, n + 1), errors, marker='o')\n",
    "plt.title('Ошибка аппроксимации матрицы от ранга r')\n",
    "plt.xlabel('Ранг r')\n",
    "plt.ylabel('Ошибка аппроксимации (Frobenius норма)')\n",
    "plt.grid()\n",
    "plt.show()"
   ]
  },
  {
   "cell_type": "markdown",
   "id": "16de4439-9056-4cbc-a393-1fb142febd4c",
   "metadata": {},
   "source": [
    "## 2 Начала матана и оптимизации"
   ]
  },
  {
   "cell_type": "markdown",
   "id": "361a766e-578f-42fc-a8d5-01619fd480e9",
   "metadata": {},
   "source": [
    "### Задача 1\n",
    "Посчитайте градиент следующей функции:\n",
    "$$f(x) = x^3_{1}-2x_{1}x_{2}+x^2_{2}-3x_{1}-2x_{2}, x\\in \\mathbb{R}^2.$$\n",
    "Найдите критические точки $x_{c}$ , такие что $\\nabla f(x_{c}) = 0.$"
   ]
  },
  {
   "cell_type": "markdown",
   "id": "a4a22b1e-16b6-4fb9-b22c-12ec16095abc",
   "metadata": {},
   "source": [
    "### Решение:\n",
    "$$\n",
    "\\frac{\\partial f}{\\partial x_1} = 3x_1^2 - 2x_2 - 3\n",
    "$$\n",
    "$$\n",
    "\\frac{\\partial f}{\\partial x_2} = -2x_1 + 2x_2 - 2\n",
    "$$"
   ]
  },
  {
   "cell_type": "markdown",
   "id": "abeda025-fa11-4066-bd68-02af89aa328e",
   "metadata": {},
   "source": [
    "$$\n",
    "\\frac{\\partial f}{\\partial x_1} = 0 ; \\frac{\\partial f}{\\partial x_2} = 0  \\implies  \\\\\n",
    "\\begin{equation}\n",
    "\\left\\{ \\begin{aligned} \n",
    "    3x_1^2 - 2x_2 - 3 = 0 \\quad \\text{(1)} \\\\\n",
    "    -2x_1 + 2x_2 - 2 = 0 \\quad \\text{(2)}\n",
    "\\end{aligned}\\right.\n",
    "\\end{equation}\n",
    "$$"
   ]
  },
  {
   "cell_type": "markdown",
   "id": "823cb31d-7cb6-493d-ad62-31444c2c7390",
   "metadata": {},
   "source": [
    "$$\n",
    "\\begin{equation}\n",
    "\\left\\{ \\begin{aligned} \n",
    "    3x_1^2 - 2x_1 - 5 = 0 \\quad \\\\\n",
    "    -2x_1 + 2x_2 - 2 = 0 \\quad\n",
    "\\end{aligned}\\right.\n",
    "\\end{equation}\n",
    "$$\n",
    "$$\n",
    "3x_1^2 - 2x_1 - 5 = 0 \\implies x_1 = \\frac{5}{3} \\text{;} x_1 = -1\n",
    "$$\n",
    "$$\n",
    "-2x_1 + 2x_2 - 2 = 0 \\implies (x_1 = \\frac{5}{3}, x_2 = \\frac{8}{3}) \\text{;} ( x_1 = -1, x_2 = 0)\n",
    "$$"
   ]
  },
  {
   "cell_type": "code",
   "execution_count": 27,
   "id": "99ab536d-4b7c-446a-b2b6-03e4ed029185",
   "metadata": {},
   "outputs": [
    {
     "name": "stdout",
     "output_type": "stream",
     "text": [
      "d f(x) = \n",
      "\n",
      "⎡    2           ⎤\n",
      "⎢3⋅x₁  - 2⋅x₂ - 3⎥\n",
      "⎢                ⎥\n",
      "⎣-2⋅x₁ + 2⋅x₂ - 2⎦\n",
      "\n",
      "Критические точки функции f(x):\n",
      "(-1, 0)\n",
      "(5/3, 8/3)\n"
     ]
    }
   ],
   "source": [
    "import numpy as np\n",
    "import sympy as sp\n",
    "\n",
    "sp.init_printing(use_latex='mathjax')\n",
    "# Определение переменных\n",
    "x1, x2 = sp.symbols('x1 x2')\n",
    "\n",
    "# Определение функции f(x)\n",
    "f = x1 ** 3 - 2 * x1 * x2 + x2 ** 2 - 3 * x1 - 2 * x2\n",
    "\n",
    "# Вычисление градиента функции f\n",
    "grad_f = sp.Matrix([sp.diff(f, var) for var in (x1, x2)])\n",
    "\n",
    "# Нахождение критических точек, решая систему уравнений grad_f = 0\n",
    "critical_points = sp.solve(grad_f, (x1, x2))\n",
    "\n",
    "# Вывод результатов\n",
    "print(\"d f(x) = \\n\")\n",
    "sp.pprint(grad_f, use_unicode=True)\n",
    "print(\"\\nКритические точки функции f(x):\")\n",
    "for point in critical_points:\n",
    "    print(point)"
   ]
  },
  {
   "cell_type": "markdown",
   "id": "5b7d3579-b71e-4178-9fd0-5c141ea59fc8",
   "metadata": {},
   "source": [
    "### Задача 2. \n",
    "\n",
    "Проверьте, что функция $\\ f(x_1, x_2) = \\ln(\\sqrt{x_1} + \\sqrt{x_2}) \\$ удовлетворяет уравнению:\n",
    "\n",
    "$$\n",
    "x_1\\frac{\\partial f}{\\partial x_1} + x_2\\frac{\\partial f}{\\partial x_2} = \\frac{1}{2}\n",
    "$$"
   ]
  },
  {
   "cell_type": "markdown",
   "id": "be771ae8-f68f-4275-a9d5-8169442e5d0c",
   "metadata": {},
   "source": [
    "**Решение**\n",
    "\n",
    "$$\n",
    "\\frac{\\partial f}{\\partial x_1} = \\frac{1}{2\\sqrt{x_1}(\\sqrt{x_1} + \\sqrt{x_2})}\n",
    "\\text {;}\n",
    "\\frac{\\partial f}{\\partial x_2} = \\frac{1}{2\\sqrt{x_2}(\\sqrt{x_1} + \\sqrt{x_2})}\n",
    "$$\n",
    "$$\n",
    "\\begin{align}\n",
    "x_1\\frac{\\partial f}{\\partial x_1} + x_2\\frac{\\partial f}{\\partial x_2} = \\frac{1}{2}  \\implies\n",
    "x_1 \\cdot \\frac{1}{2\\sqrt{x_1}(\\sqrt{x_1} + \\sqrt{x_2})} + x_2 \\cdot \\frac{1}{2\\sqrt{x_2}(\\sqrt{x_1} + \\sqrt{x_2})} = \\frac{1}{2} \\implies \\\\\n",
    "\\frac{x_1}{2\\sqrt{x_1}(\\sqrt{x_1} + \\sqrt{x_2})} + \\frac{x_2}{2\\sqrt{x_2}(\\sqrt{x_1} + \\sqrt{x_2})} = \\frac{1}{2} \\implies\n",
    "\\frac{\\sqrt{x_1}}{2(\\sqrt{x_1} + \\sqrt{x_2})} + \\frac{\\sqrt{x_2}}{2(\\sqrt{x_1} + \\sqrt{x_2})} \\implies\n",
    "\\frac{{\\sqrt{x_1} + \\sqrt{x_2}}}{2{(\\sqrt{x_1} + \\sqrt{x_2})}} = \\frac{1}{2}\n",
    "\\end{align}\n",
    "$$"
   ]
  },
  {
   "cell_type": "code",
   "execution_count": 30,
   "id": "304d36e5-e027-4c95-9ecb-7a3efff7777c",
   "metadata": {},
   "outputs": [
    {
     "name": "stdout",
     "output_type": "stream",
     "text": [
      "df/dx1 = 1/(2*sqrt(x1)*(sqrt(x1) + sqrt(x2)))\n",
      "df/dx2 = 1/(2*sqrt(x2)*(sqrt(x1) + sqrt(x2)))\n",
      "\n",
      " sqrt(x1)/(2*(sqrt(x1) + sqrt(x2))) + sqrt(x2)/(2*(sqrt(x1) + sqrt(x2)))  =  1/2\n",
      "\n",
      "Equal 1/2? True\n"
     ]
    }
   ],
   "source": [
    "import numpy as np\n",
    "import sympy as sp\n",
    "\n",
    "x1, x2 = sp.symbols('x1 x2')\n",
    "f = sp.ln(sp.sqrt(x1) + sp.sqrt(x2))\n",
    "\n",
    "diff_x1 = sp.diff(f, x1)\n",
    "diff_x2 = sp.diff(f, x2)\n",
    "\n",
    "equation = x1 * diff_x1 + x2 * diff_x2\n",
    "simplified = sp.simplify(equation)\n",
    "is_equal = simplified.equals(1 / 2)\n",
    "\n",
    "print(f\"df/dx1 = {diff_x1}\")\n",
    "print(f\"df/dx2 = {diff_x2}\")\n",
    "print(\"\\n\", equation, \" = \", simplified)\n",
    "print(\"\\nEqual 1/2?\",is_equal)"
   ]
  },
  {
   "cell_type": "markdown",
   "id": "a3067089-dcb9-4668-96fb-2f12522d43b0",
   "metadata": {},
   "source": [
    "## Задача 3\n",
    "Предположим, задана функция $f : \\mathbb{R}^3\\to  \\mathbb{R}:$\n",
    "$$f(x,y,z)=x+y+z+(xyz)^2.$$\n",
    "Найдите вектор градиента функции $f$, и его численное значение в точке $\\upsilon = (1,2,3)^T.$"
   ]
  },
  {
   "cell_type": "markdown",
   "id": "8d1e2258-b36d-45c5-a5dc-145137af8823",
   "metadata": {},
   "source": [
    "**Решение**\n",
    "$$\n",
    "\\nabla f = \\left( \\frac{\\partial f}{\\partial x}, \\frac{\\partial f}{\\partial y}, \\frac{\\partial f}{\\partial z} \\right)\n",
    "$$\n",
    "$$\n",
    "\\frac{\\partial f}{\\partial x} = 1 + \\frac{\\partial}{\\partial x}(xyz)^2 \\cdot \\frac{\\partial (xyz)}{\\partial x} = 1 + 2(xyz) \\cdot \\frac{\\partial (xyz)}{\\partial x} = 1 + 2(xyz) \\cdot yz = 1 + 2y^2z^2x\n",
    "$$\n",
    "\n",
    "$$\n",
    "\\frac{\\partial f}{\\partial y} = 1 + \\frac{\\partial}{\\partial y}(xyz)^2 \\cdot \\frac{\\partial (xyz)}{\\partial y} = 1 + 2(xyz) \\cdot \\frac{\\partial (xyz)}{\\partial y} = 1 + 2(xyz) \\cdot xz = 1 + 2z^2x^2y\n",
    "$$\n",
    "\n",
    "$$\n",
    "\\frac{\\partial f}{\\partial z} = 1 + \\frac{\\partial}{\\partial z}(xyz)^2 \\cdot \\frac{\\partial (xyz)}{\\partial z} = 1 + 2(xyz) \\cdot \\frac{\\partial (xyz)}{\\partial z} = 1 + 2(xyz) \\cdot xy = 1 + 2y^2x^2z\n",
    "$$\n",
    "$$\\nabla f = \\left( 1 + 2y^2z^2x, 1 + 2x^2z^2y, 1 + 2x^2y^2z \\right) \\text{;} v = (1, 2, 3)^⊤$$\n",
    "$$\n",
    "\\nabla f = \\left( 1 + 2 \\cdot 2^2 \\cdot 3^2 \\cdot 1, 1 + 2 \\cdot 1^2 \\cdot 3^2 \\cdot 2 , 1 + 2 \\cdot 1^2 \\cdot 2^2 \\cdot 3 \\right) = \\\\ (73, 37, 25)\n",
    "$$"
   ]
  },
  {
   "cell_type": "code",
   "execution_count": 33,
   "id": "2500a354-c7b7-430e-aa68-4cdf44fec038",
   "metadata": {},
   "outputs": [
    {
     "name": "stdout",
     "output_type": "stream",
     "text": [
      "grad_f:\n",
      "\n",
      "⎡     2  2    ⎤\n",
      "⎢2⋅x⋅y ⋅z  + 1⎥\n",
      "⎢             ⎥\n",
      "⎢   2    2    ⎥\n",
      "⎢2⋅x ⋅y⋅z  + 1⎥\n",
      "⎢             ⎥\n",
      "⎢   2  2      ⎥\n",
      "⎣2⋅x ⋅y ⋅z + 1⎦\n",
      "\n",
      "grad_f(v):\n",
      "\n",
      "⎡73⎤\n",
      "⎢  ⎥\n",
      "⎢37⎥\n",
      "⎢  ⎥\n",
      "⎣25⎦\n"
     ]
    }
   ],
   "source": [
    "import sympy as sp\n",
    "x, y, z = sp.symbols('x y z')\n",
    "f = x + y + z + (x * y * z) ** 2\n",
    "\n",
    "diff_x = sp.diff(f, x)\n",
    "diff_y = sp.diff(f, y)\n",
    "diff_z = sp.diff(f, z)\n",
    "\n",
    "grad_f = sp.Matrix([diff_x, diff_y, diff_z])\n",
    "\n",
    "v = (1, 2, 3)\n",
    "grad_f_v = grad_f.subs({x: v[0], y: v[1], z: v[2]})\n",
    "\n",
    "print(\"grad_f:\\n\")\n",
    "sp.pprint(grad_f, use_unicode=True)\n",
    "print(\"\\ngrad_f(v):\\n\")\n",
    "sp.pprint(grad_f_v, use_unicode=True)"
   ]
  },
  {
   "cell_type": "markdown",
   "id": "7518669a-dc2e-4912-8e29-46df9d1b3423",
   "metadata": {},
   "source": [
    "### Задача 4\n",
    "(Куб Евклидовой нормы). Найти первый дифференциал $df(x)$, а также градиент $\\nabla f(x)$ функции:\n",
    "$$f(x)=\\frac{1}{3}\\left\\| x \\right\\|^3_{2}, x\\in \\mathbb{R}^n\\text{\\\\{0}}.$$"
   ]
  },
  {
   "cell_type": "markdown",
   "id": "4f318ef8-a74c-481d-8765-02656b5e4893",
   "metadata": {},
   "source": [
    "**Решение**\n",
    "\n",
    "$$ \\sqsupset r = \\|x\\|_2 \\implies f(x) = g(r) = \\frac{1}{3} r^3$$\n",
    "\n",
    "$$g'(r)=r^2$$\n",
    "\n",
    "$$dg(r)=g'(r)dr=r^2dr$$"
   ]
  },
  {
   "cell_type": "markdown",
   "id": "4e73079c-8216-4a31-a46b-f29027848aab",
   "metadata": {},
   "source": [
    "$r = \\|x\\|_2 = (x,x)^\\frac{1}{2}$:\n",
    "$$\n",
    "dr = d((x,x)^\\frac{1}{2}) = \\frac{1}{2}(x,x)^{-\\frac{1}{2}} \\cdot d(x,x) = \\frac{1}{2}(x,x)^{-\\frac{1}{2}} \\cdot 2(x, dx) = \\frac{1}{2}r \\cdot 2(x, dx) = \\frac{(x, dx)}{r}\n",
    "$$\n",
    "\n",
    "$$\n",
    "dg(r) = r^2 \\cdot dr = r^2 \\cdot \\frac{(x, dx)}{r} = r(x, dx) = \\|x\\|_2(x, dx)\n",
    "$$\n",
    "\n",
    "$$\n",
    "f(x) = g(r) \\implies df(x) = r(x, dx) = \\|x\\|_2(x, dx)\n",
    "$$"
   ]
  },
  {
   "cell_type": "markdown",
   "id": "b0a274b1-091b-4b8d-8306-015b527a72cd",
   "metadata": {},
   "source": [
    "$$\n",
    "f(x) = g(r) \\implies \\nabla f(x) = g'(r) \\cdot \\nabla r \\\\ \\text{   где   } g'(r) = r^2\n",
    "$$\n",
    "\n",
    "$$\n",
    "\\nabla r = \\frac{\\partial r}{\\partial x_i}: r = (x,x)^\\frac{1}{2},\n",
    "\\sqsupset s = (x,x) \\implies r = s^\\frac{1}{2}\n",
    "$$\n",
    "\n",
    "$$\n",
    "\\frac{\\partial r}{\\partial s} = \\frac{1}{2}s^{-\\frac{1}{2}} = \\frac{1}{2} \\cdot \\frac{1}{r}\n",
    "$$\n",
    "\n",
    "$$\n",
    "\\frac{\\partial s}{\\partial x_i} = 2x_i\n",
    "$$\n",
    "\n",
    "$$\n",
    "\\nabla r = \\frac{\\partial r}{\\partial x_i} = \\frac{x}{r}\n",
    "$$\n",
    "\n",
    "$$\n",
    "\\nabla f(x) = g'(r) \\cdot \\nabla r = r^2 \\cdot \\frac{x}{r} = rx = \\|x\\|_2x\n",
    "$$"
   ]
  },
  {
   "cell_type": "code",
   "execution_count": 38,
   "id": "4f3b4c3c-68f5-41ab-9bc4-ed399133e113",
   "metadata": {},
   "outputs": [
    {
     "name": "stdout",
     "output_type": "stream",
     "text": [
      "grad f(x):\n",
      "\n",
      "⎡          _________________⎤\n",
      "⎢         ╱   2     2     2 ⎥\n",
      "⎢1.0⋅x₁⋅╲╱  x₁  + x₂  + x₃  ⎥\n",
      "⎢                           ⎥\n",
      "⎢          _________________⎥\n",
      "⎢         ╱   2     2     2 ⎥\n",
      "⎢1.0⋅x₂⋅╲╱  x₁  + x₂  + x₃  ⎥\n",
      "⎢                           ⎥\n",
      "⎢          _________________⎥\n",
      "⎢         ╱   2     2     2 ⎥\n",
      "⎣1.0⋅x₃⋅╲╱  x₁  + x₂  + x₃  ⎦\n",
      "\n",
      "diff f(x):\n",
      "\n",
      "              _________________                 _________________              ↪\n",
      "             ╱   2     2     2                 ╱   2     2     2               ↪\n",
      "1.0⋅dx₁⋅x₁⋅╲╱  x₁  + x₂  + x₃   + 1.0⋅dx₂⋅x₂⋅╲╱  x₁  + x₂  + x₃   + 1.0⋅dx₃⋅x₃ ↪\n",
      "\n",
      "↪     _________________\n",
      "↪    ╱   2     2     2 \n",
      "↪ ⋅╲╱  x₁  + x₂  + x₃  \n"
     ]
    }
   ],
   "source": [
    "import sympy as sp\n",
    "\n",
    "n = 3  # Размерность пространства (например, R^3)\n",
    "x = sp.Matrix([sp.symbols(f'x{i + 1}') for i in range(n)]) # Создание вектора переменных x1, x2, ..., xn\n",
    "\n",
    "euclidean_norm = sp.sqrt(x.dot(x))\n",
    "\n",
    "f = (1 / 3) * euclidean_norm ** 3\n",
    "\n",
    "grad_f = sp.Matrix([sp.diff(f, xi) for xi in x])\n",
    "dx = sp.Matrix([sp.symbols(f'dx{i + 1}') for i in range(n)])\n",
    "df = grad_f.dot(dx)\n",
    "\n",
    "print(\"grad f(x):\\n\")\n",
    "sp.pprint(grad_f)\n",
    "print(\"\\ndiff f(x):\\n\")\n",
    "sp.pprint(df)"
   ]
  },
  {
   "cell_type": "markdown",
   "id": "d08e12d5-3c39-46a6-8e1b-35e1726c9b50",
   "metadata": {},
   "source": [
    "### Задача 5\n",
    "(Квадрат Евклидовой нормы). Найти первый дифференциал $df(x)$, а также градиент $\\nabla f(x)$ функции:\n",
    "$$f(x)=\\left\\| A_{x} \\right\\|^2_{2}, x\\in \\mathbb{R}^n\\text{\\\\{0}}, A\\in \\mathbb{R}^{m\\times n}.$$"
   ]
  },
  {
   "cell_type": "markdown",
   "id": "a3db5cf1-ebfb-4bad-bd50-b87e6a74d0b3",
   "metadata": {},
   "source": [
    "**Решение**\n",
    "\n",
    "$$\n",
    "|Ax|_2 = \\sqrt{(Ax)^T (Ax)} \\implies |Ax|_2^2 = (Ax)^T (Ax)\n",
    "$$\n",
    "\n",
    "$$\n",
    "\\implies f(x) = |Ax|_2^2 = (Ax)^T (Ax) = x^T A^T A x\n",
    "$$\n",
    "\n",
    "$$\n",
    "\\sqsupset M = A^T A:\n",
    "$$\n",
    "\n",
    "$$\n",
    "f(x) = x^T A^T A x = x^T M x\n",
    "$$\n",
    "\n",
    "$$\n",
    "df(x) = (M x)^T dx + x^T M dx = 2 x^T M dx \\implies df(x) = 2 (Ax)^T A dx\n",
    "$$\n",
    "\n",
    "$$\n",
    "df(x) = 2 (Ax)^T Adx \\implies df(x) = \\nabla f(x)^T dx \\implies \\nabla f(x)^T = 2 (Ax)^T A \\implies \\nabla f(x) = 2 A^T Ax\n",
    "$$"
   ]
  },
  {
   "cell_type": "code",
   "execution_count": 41,
   "id": "53db073f-d44b-473a-877a-9a53b88b4de5",
   "metadata": {},
   "outputs": [
    {
     "name": "stdout",
     "output_type": "stream",
     "text": [
      "f(x): 15.890861145681338\n",
      "grad f(x): [ 2.18115378 17.90350975  0.17663449]\n",
      "df(x): -2.4316439736507807\n"
     ]
    }
   ],
   "source": [
    "import numpy as np\n",
    "import sympy as sp\n",
    "\n",
    "A = np.random.randn(2, 3)\n",
    "x = np.random.randn(3)\n",
    "\n",
    "f_x = np.linalg.norm(np.dot(A, x)) ** 2\n",
    "\n",
    "grad_f_x = 2 * np.dot(A.T, np.dot(A, x))\n",
    "dx = np.random.randn(n)\n",
    "df_x = np.dot(grad_f_x, dx)\n",
    "\n",
    "print(\"f(x):\", f_x)\n",
    "print(\"grad f(x):\", grad_f_x)\n",
    "print(\"df(x):\", df_x)"
   ]
  },
  {
   "cell_type": "code",
   "execution_count": null,
   "id": "10d9ab84-da41-455c-933b-3a7267755112",
   "metadata": {},
   "outputs": [],
   "source": []
  }
 ],
 "metadata": {
  "kernelspec": {
   "display_name": "Python 3 (ipykernel)",
   "language": "python",
   "name": "python3"
  },
  "language_info": {
   "codemirror_mode": {
    "name": "ipython",
    "version": 3
   },
   "file_extension": ".py",
   "mimetype": "text/x-python",
   "name": "python",
   "nbconvert_exporter": "python",
   "pygments_lexer": "ipython3",
   "version": "3.12.7"
  }
 },
 "nbformat": 4,
 "nbformat_minor": 5
}
